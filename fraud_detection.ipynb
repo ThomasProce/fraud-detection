{
 "cells": [
  {
   "cell_type": "code",
   "execution_count": 1,
   "metadata": {},
   "outputs": [],
   "source": [
    "import pandas as pd\n",
    "import numpy as np\n",
    "import matplotlib.pyplot as plt\n",
    "import seaborn as sns\n",
    "\n",
    "# test statistics\n",
    "from scipy import stats\n",
    "from statsmodels.stats.outliers_influence import variance_inflation_factor\n",
    "\n",
    "# machine learning\n",
    "from sklearn.model_selection import train_test_split,StratifiedKFold,cross_val_score\n",
    "from sklearn.pipeline import Pipeline\n",
    "from sklearn.preprocessing import StandardScaler,FunctionTransformer,PowerTransformer\n",
    "from sklearn.impute import SimpleImputer\n",
    "from sklearn.compose import ColumnTransformer\n",
    "\n",
    "# model\n",
    "from sklearn.linear_model import LogisticRegression\n",
    "from sklearn.ensemble import RandomForestClassifier,GradientBoostingClassifier\n",
    "from catboost import CatBoostClassifier\n",
    "from xgboost import XGBClassifier\n",
    "\n",
    "# metrics\n",
    "from sklearn.metrics import (roc_auc_score,f1_score,\n",
    "                             precision_recall_curve,\n",
    "                             precision_score,\n",
    "                             recall_score)"
   ]
  },
  {
   "cell_type": "code",
   "execution_count": 2,
   "metadata": {},
   "outputs": [],
   "source": [
    "df = pd.read_csv('creditcard.csv')"
   ]
  },
  {
   "cell_type": "code",
   "execution_count": 3,
   "metadata": {},
   "outputs": [
    {
     "data": {
      "text/html": [
       "<div>\n",
       "<style scoped>\n",
       "    .dataframe tbody tr th:only-of-type {\n",
       "        vertical-align: middle;\n",
       "    }\n",
       "\n",
       "    .dataframe tbody tr th {\n",
       "        vertical-align: top;\n",
       "    }\n",
       "\n",
       "    .dataframe thead th {\n",
       "        text-align: right;\n",
       "    }\n",
       "</style>\n",
       "<table border=\"1\" class=\"dataframe\">\n",
       "  <thead>\n",
       "    <tr style=\"text-align: right;\">\n",
       "      <th></th>\n",
       "      <th>Time</th>\n",
       "      <th>V1</th>\n",
       "      <th>V2</th>\n",
       "      <th>V3</th>\n",
       "      <th>V4</th>\n",
       "      <th>V5</th>\n",
       "      <th>V6</th>\n",
       "      <th>V7</th>\n",
       "      <th>V8</th>\n",
       "      <th>V9</th>\n",
       "      <th>...</th>\n",
       "      <th>V21</th>\n",
       "      <th>V22</th>\n",
       "      <th>V23</th>\n",
       "      <th>V24</th>\n",
       "      <th>V25</th>\n",
       "      <th>V26</th>\n",
       "      <th>V27</th>\n",
       "      <th>V28</th>\n",
       "      <th>Amount</th>\n",
       "      <th>Class</th>\n",
       "    </tr>\n",
       "  </thead>\n",
       "  <tbody>\n",
       "    <tr>\n",
       "      <th>0</th>\n",
       "      <td>0.0</td>\n",
       "      <td>-1.359807</td>\n",
       "      <td>-0.072781</td>\n",
       "      <td>2.536347</td>\n",
       "      <td>1.378155</td>\n",
       "      <td>-0.338321</td>\n",
       "      <td>0.462388</td>\n",
       "      <td>0.239599</td>\n",
       "      <td>0.098698</td>\n",
       "      <td>0.363787</td>\n",
       "      <td>...</td>\n",
       "      <td>-0.018307</td>\n",
       "      <td>0.277838</td>\n",
       "      <td>-0.110474</td>\n",
       "      <td>0.066928</td>\n",
       "      <td>0.128539</td>\n",
       "      <td>-0.189115</td>\n",
       "      <td>0.133558</td>\n",
       "      <td>-0.021053</td>\n",
       "      <td>149.62</td>\n",
       "      <td>0</td>\n",
       "    </tr>\n",
       "    <tr>\n",
       "      <th>1</th>\n",
       "      <td>0.0</td>\n",
       "      <td>1.191857</td>\n",
       "      <td>0.266151</td>\n",
       "      <td>0.166480</td>\n",
       "      <td>0.448154</td>\n",
       "      <td>0.060018</td>\n",
       "      <td>-0.082361</td>\n",
       "      <td>-0.078803</td>\n",
       "      <td>0.085102</td>\n",
       "      <td>-0.255425</td>\n",
       "      <td>...</td>\n",
       "      <td>-0.225775</td>\n",
       "      <td>-0.638672</td>\n",
       "      <td>0.101288</td>\n",
       "      <td>-0.339846</td>\n",
       "      <td>0.167170</td>\n",
       "      <td>0.125895</td>\n",
       "      <td>-0.008983</td>\n",
       "      <td>0.014724</td>\n",
       "      <td>2.69</td>\n",
       "      <td>0</td>\n",
       "    </tr>\n",
       "    <tr>\n",
       "      <th>2</th>\n",
       "      <td>1.0</td>\n",
       "      <td>-1.358354</td>\n",
       "      <td>-1.340163</td>\n",
       "      <td>1.773209</td>\n",
       "      <td>0.379780</td>\n",
       "      <td>-0.503198</td>\n",
       "      <td>1.800499</td>\n",
       "      <td>0.791461</td>\n",
       "      <td>0.247676</td>\n",
       "      <td>-1.514654</td>\n",
       "      <td>...</td>\n",
       "      <td>0.247998</td>\n",
       "      <td>0.771679</td>\n",
       "      <td>0.909412</td>\n",
       "      <td>-0.689281</td>\n",
       "      <td>-0.327642</td>\n",
       "      <td>-0.139097</td>\n",
       "      <td>-0.055353</td>\n",
       "      <td>-0.059752</td>\n",
       "      <td>378.66</td>\n",
       "      <td>0</td>\n",
       "    </tr>\n",
       "    <tr>\n",
       "      <th>3</th>\n",
       "      <td>1.0</td>\n",
       "      <td>-0.966272</td>\n",
       "      <td>-0.185226</td>\n",
       "      <td>1.792993</td>\n",
       "      <td>-0.863291</td>\n",
       "      <td>-0.010309</td>\n",
       "      <td>1.247203</td>\n",
       "      <td>0.237609</td>\n",
       "      <td>0.377436</td>\n",
       "      <td>-1.387024</td>\n",
       "      <td>...</td>\n",
       "      <td>-0.108300</td>\n",
       "      <td>0.005274</td>\n",
       "      <td>-0.190321</td>\n",
       "      <td>-1.175575</td>\n",
       "      <td>0.647376</td>\n",
       "      <td>-0.221929</td>\n",
       "      <td>0.062723</td>\n",
       "      <td>0.061458</td>\n",
       "      <td>123.50</td>\n",
       "      <td>0</td>\n",
       "    </tr>\n",
       "    <tr>\n",
       "      <th>4</th>\n",
       "      <td>2.0</td>\n",
       "      <td>-1.158233</td>\n",
       "      <td>0.877737</td>\n",
       "      <td>1.548718</td>\n",
       "      <td>0.403034</td>\n",
       "      <td>-0.407193</td>\n",
       "      <td>0.095921</td>\n",
       "      <td>0.592941</td>\n",
       "      <td>-0.270533</td>\n",
       "      <td>0.817739</td>\n",
       "      <td>...</td>\n",
       "      <td>-0.009431</td>\n",
       "      <td>0.798278</td>\n",
       "      <td>-0.137458</td>\n",
       "      <td>0.141267</td>\n",
       "      <td>-0.206010</td>\n",
       "      <td>0.502292</td>\n",
       "      <td>0.219422</td>\n",
       "      <td>0.215153</td>\n",
       "      <td>69.99</td>\n",
       "      <td>0</td>\n",
       "    </tr>\n",
       "  </tbody>\n",
       "</table>\n",
       "<p>5 rows × 31 columns</p>\n",
       "</div>"
      ],
      "text/plain": [
       "   Time        V1        V2        V3        V4        V5        V6        V7  \\\n",
       "0   0.0 -1.359807 -0.072781  2.536347  1.378155 -0.338321  0.462388  0.239599   \n",
       "1   0.0  1.191857  0.266151  0.166480  0.448154  0.060018 -0.082361 -0.078803   \n",
       "2   1.0 -1.358354 -1.340163  1.773209  0.379780 -0.503198  1.800499  0.791461   \n",
       "3   1.0 -0.966272 -0.185226  1.792993 -0.863291 -0.010309  1.247203  0.237609   \n",
       "4   2.0 -1.158233  0.877737  1.548718  0.403034 -0.407193  0.095921  0.592941   \n",
       "\n",
       "         V8        V9  ...       V21       V22       V23       V24       V25  \\\n",
       "0  0.098698  0.363787  ... -0.018307  0.277838 -0.110474  0.066928  0.128539   \n",
       "1  0.085102 -0.255425  ... -0.225775 -0.638672  0.101288 -0.339846  0.167170   \n",
       "2  0.247676 -1.514654  ...  0.247998  0.771679  0.909412 -0.689281 -0.327642   \n",
       "3  0.377436 -1.387024  ... -0.108300  0.005274 -0.190321 -1.175575  0.647376   \n",
       "4 -0.270533  0.817739  ... -0.009431  0.798278 -0.137458  0.141267 -0.206010   \n",
       "\n",
       "        V26       V27       V28  Amount  Class  \n",
       "0 -0.189115  0.133558 -0.021053  149.62      0  \n",
       "1  0.125895 -0.008983  0.014724    2.69      0  \n",
       "2 -0.139097 -0.055353 -0.059752  378.66      0  \n",
       "3 -0.221929  0.062723  0.061458  123.50      0  \n",
       "4  0.502292  0.219422  0.215153   69.99      0  \n",
       "\n",
       "[5 rows x 31 columns]"
      ]
     },
     "execution_count": 3,
     "metadata": {},
     "output_type": "execute_result"
    }
   ],
   "source": [
    "# As reported on Kaggle, a PCA has already been performed on features (V1,V2,V3...)\n",
    "# The only features that are not passed through PCA (according to the documentation) are Time and Amount\n",
    "# The class is the target variable\n",
    "df.head()"
   ]
  },
  {
   "cell_type": "code",
   "execution_count": 4,
   "metadata": {},
   "outputs": [],
   "source": [
    "# Check for any null,nan or duplicates\n",
    "def checking_func(df):\n",
    "    if df.isnull().values.any():\n",
    "        print('There are null values in the dataframe')\n",
    "    else:\n",
    "        print('No null values in the dataframe')\n",
    "    if df.duplicated().values.any():\n",
    "        print('There are duplicate values in the dataframe')\n",
    "    else:\n",
    "        print('No duplicate values in the dataframe')\n",
    "    if df.isna().values.any():\n",
    "        print('There are NaN values in the dataframe')\n",
    "    else:\n",
    "        print('No NaN values in the dataframe')"
   ]
  },
  {
   "cell_type": "code",
   "execution_count": 5,
   "metadata": {},
   "outputs": [
    {
     "name": "stdout",
     "output_type": "stream",
     "text": [
      "No null values in the dataframe\n",
      "There are duplicate values in the dataframe\n",
      "No NaN values in the dataframe\n"
     ]
    }
   ],
   "source": [
    "checking_func(df)"
   ]
  },
  {
   "cell_type": "code",
   "execution_count": 6,
   "metadata": {},
   "outputs": [
    {
     "name": "stdout",
     "output_type": "stream",
     "text": [
      "Total duplicated for positive class: 19\n",
      "Total duplicated for negative class: 1062\n"
     ]
    }
   ],
   "source": [
    "# There are some duplicates, keep it for now.\n",
    "print(f\"Total duplicated for positive class: {df[df['Class'] == 1].duplicated().sum()}\")\n",
    "print(f\"Total duplicated for negative class: {df[df['Class'] == 0].duplicated().sum()}\")"
   ]
  },
  {
   "cell_type": "markdown",
   "metadata": {},
   "source": [
    "# Exploratory Data Analysis\n",
    "\n",
    "### Objectives:\n",
    "1. **Attribute Study**\n",
    "2. **Type Checking**\n",
    "3. **Noisiness Assessment**\n",
    "4. **Distribution Exploration**\n",
    "5. **Transformation Potential**\n",
    "6. **Data Visualization**"
   ]
  },
  {
   "cell_type": "code",
   "execution_count": 7,
   "metadata": {},
   "outputs": [
    {
     "name": "stdout",
     "output_type": "stream",
     "text": [
      "<class 'pandas.core.frame.DataFrame'>\n",
      "RangeIndex: 284807 entries, 0 to 284806\n",
      "Data columns (total 31 columns):\n",
      " #   Column  Non-Null Count   Dtype  \n",
      "---  ------  --------------   -----  \n",
      " 0   Time    284807 non-null  float64\n",
      " 1   V1      284807 non-null  float64\n",
      " 2   V2      284807 non-null  float64\n",
      " 3   V3      284807 non-null  float64\n",
      " 4   V4      284807 non-null  float64\n",
      " 5   V5      284807 non-null  float64\n",
      " 6   V6      284807 non-null  float64\n",
      " 7   V7      284807 non-null  float64\n",
      " 8   V8      284807 non-null  float64\n",
      " 9   V9      284807 non-null  float64\n",
      " 10  V10     284807 non-null  float64\n",
      " 11  V11     284807 non-null  float64\n",
      " 12  V12     284807 non-null  float64\n",
      " 13  V13     284807 non-null  float64\n",
      " 14  V14     284807 non-null  float64\n",
      " 15  V15     284807 non-null  float64\n",
      " 16  V16     284807 non-null  float64\n",
      " 17  V17     284807 non-null  float64\n",
      " 18  V18     284807 non-null  float64\n",
      " 19  V19     284807 non-null  float64\n",
      " 20  V20     284807 non-null  float64\n",
      " 21  V21     284807 non-null  float64\n",
      " 22  V22     284807 non-null  float64\n",
      " 23  V23     284807 non-null  float64\n",
      " 24  V24     284807 non-null  float64\n",
      " 25  V25     284807 non-null  float64\n",
      " 26  V26     284807 non-null  float64\n",
      " 27  V27     284807 non-null  float64\n",
      " 28  V28     284807 non-null  float64\n",
      " 29  Amount  284807 non-null  float64\n",
      " 30  Class   284807 non-null  int64  \n",
      "dtypes: float64(30), int64(1)\n",
      "memory usage: 67.4 MB\n"
     ]
    }
   ],
   "source": [
    "# Except for the target variable, every feature is of type 'float64'.\n",
    "df.info()"
   ]
  },
  {
   "cell_type": "markdown",
   "metadata": {},
   "source": [
    "### Class Imbalance"
   ]
  },
  {
   "cell_type": "code",
   "execution_count": 8,
   "metadata": {},
   "outputs": [
    {
     "data": {
      "image/png": "[encoded data removed]",
      "text/plain": [
       "<Figure size 640x480 with 1 Axes>"
      ]
     },
     "metadata": {},
     "output_type": "display_data"
    }
   ],
   "source": [
    "# As you may expected we got a strong imbalance in the target variable\n",
    "sns.countplot(x='Class', data=df)\n",
    "plt.show()"
   ]
  },
  {
   "cell_type": "markdown",
   "metadata": {},
   "source": [
    "### Outliers"
   ]
  },
  {
   "cell_type": "code",
   "execution_count": 9,
   "metadata": {},
   "outputs": [
    {
     "data": {
      "image/png": "[encoded data removed]",
      "text/plain": [
       "<Figure size 640x480 with 1 Axes>"
      ]
     },
     "metadata": {},
     "output_type": "display_data"
    }
   ],
   "source": [
    "sns.boxplot(data=df,y=df['Time'])\n",
    "plt.show()"
   ]
  },
  {
   "cell_type": "code",
   "execution_count": 10,
   "metadata": {},
   "outputs": [
    {
     "data": {
      "image/png": "[encoded data removed]",
      "text/plain": [
       "<Figure size 640x480 with 1 Axes>"
      ]
     },
     "metadata": {},
     "output_type": "display_data"
    }
   ],
   "source": [
    "# Let's check for any outliers\n",
    "sns.boxplot(data=df,y=df['Amount'])\n",
    "plt.show()"
   ]
  },
  {
   "cell_type": "code",
   "execution_count": 11,
   "metadata": {},
   "outputs": [],
   "source": [
    "features = df.iloc[:, 1:29].columns"
   ]
  },
  {
   "cell_type": "code",
   "execution_count": 12,
   "metadata": {},
   "outputs": [
    {
     "data": {
      "image/png": "[encoded data removed]",
      "text/plain": [
       "<Figure size 1500x800 with 1 Axes>"
      ]
     },
     "metadata": {},
     "output_type": "display_data"
    }
   ],
   "source": [
    "plt.figure(figsize=(15,8))\n",
    "sns.boxplot(data=df[features], orient=\"v\", palette=\"Set2\")\n",
    "plt.show()"
   ]
  },
  {
   "cell_type": "markdown",
   "metadata": {},
   "source": [
    "### Sample Selection\n",
    "\n",
    "*Note*: Since the total of data are quite large, we will randomly sample the data to reduce the computation time."
   ]
  },
  {
   "cell_type": "code",
   "execution_count": 13,
   "metadata": {},
   "outputs": [
    {
     "name": "stdout",
     "output_type": "stream",
     "text": [
      "Population mean: 94902.21092181724,population Std: 47765.64655087636\n",
      "Sample mean: 94820.01072749992,sample Std: 47849.77543123892\n"
     ]
    }
   ],
   "source": [
    "N = 20000\n",
    "sample = df.groupby('Class', group_keys=False).apply(lambda x: x.sample(int(np.rint(N*len(x)/len(df))))).sample(frac=1).reset_index(drop=True)\n",
    "\n",
    "# Since the Std and the mean of the population is known, lets compare it\n",
    "print(f\"Population mean: {df.mean().sum()},population Std: {df.std().sum()}\")\n",
    "print(f\"Sample mean: {sample.mean().sum()},sample Std: {sample.std().sum()}\")"
   ]
  },
  {
   "cell_type": "code",
   "execution_count": 14,
   "metadata": {},
   "outputs": [],
   "source": [
    "# verify that the the difference between population and sample statistics are not significant\n",
    "def t_test(df, sample):\n",
    "    t_test = stats.ttest_ind(df, sample)\n",
    "    p_value = t_test[1]\n",
    "    if p_value < 0.05:\n",
    "        print(\"We reject the null hypothesis\")\n",
    "    else:\n",
    "        print(\"We fail to reject the null hypothesis\")"
   ]
  },
  {
   "cell_type": "code",
   "execution_count": 15,
   "metadata": {},
   "outputs": [
    {
     "name": "stdout",
     "output_type": "stream",
     "text": [
      "We fail to reject the null hypothesis\n",
      "We fail to reject the null hypothesis\n",
      "Proportion of pos class in df: 0.001727485630620034, in sample: 0.00175\n"
     ]
    }
   ],
   "source": [
    "# test on mean\n",
    "t_test(df.mean(), sample.mean())\n",
    "\n",
    "# test on Std\n",
    "t_test(df.std(), sample.std())\n",
    "\n",
    "# Compare the proportions of classes\n",
    "print(f\"Proportion of pos class in df: {df['Class'].sum()/len(df)}, in sample: {sample['Class'].sum()/len(sample)}\")"
   ]
  },
  {
   "cell_type": "markdown",
   "metadata": {},
   "source": [
    "### Visualizations"
   ]
  },
  {
   "cell_type": "code",
   "execution_count": 16,
   "metadata": {},
   "outputs": [
    {
     "data": {
      "image/png": "[encoded data removed]",
      "text/plain": [
       "<Figure size 1000x600 with 1 Axes>"
      ]
     },
     "metadata": {},
     "output_type": "display_data"
    }
   ],
   "source": [
    "# The variable 'Amount' show a strong kurtosis and skewness.\n",
    "plt.figure(figsize=(10, 6))\n",
    "sns.kdeplot(data=sample, x=\"Amount\", label=f\"Kurtosis: {sample['Amount'].kurt():.2f}\\nSkewness: {sample['Amount'].skew():.2f}\")\n",
    "plt.legend(loc='upper right', fontsize='large')\n",
    "plt.title('Kernel Density Estimation Plot of Amount', fontsize=16)\n",
    "plt.xlabel('Amount', fontsize=14)\n",
    "plt.ylabel('Density', fontsize=14)\n",
    "plt.xticks(fontsize=12)\n",
    "plt.yticks(fontsize=12)\n",
    "plt.show()"
   ]
  },
  {
   "cell_type": "code",
   "execution_count": 17,
   "metadata": {},
   "outputs": [
    {
     "data": {
      "image/png": "[encoded data removed]",
      "text/plain": [
       "<Figure size 1000x600 with 1 Axes>"
      ]
     },
     "metadata": {},
     "output_type": "display_data"
    }
   ],
   "source": [
    "# Let's visualize the Time\n",
    "plt.figure(figsize=(10, 6))\n",
    "sns.histplot(data=sample,x='Time',bins=100,label='Time')\n",
    "plt.show()"
   ]
  },
  {
   "cell_type": "code",
   "execution_count": 18,
   "metadata": {},
   "outputs": [
    {
     "data": {
      "text/html": [
       "<div>\n",
       "<style scoped>\n",
       "    .dataframe tbody tr th:only-of-type {\n",
       "        vertical-align: middle;\n",
       "    }\n",
       "\n",
       "    .dataframe tbody tr th {\n",
       "        vertical-align: top;\n",
       "    }\n",
       "\n",
       "    .dataframe thead th {\n",
       "        text-align: right;\n",
       "    }\n",
       "</style>\n",
       "<table border=\"1\" class=\"dataframe\">\n",
       "  <thead>\n",
       "    <tr style=\"text-align: right;\">\n",
       "      <th></th>\n",
       "      <th>Time</th>\n",
       "      <th>V1</th>\n",
       "      <th>V2</th>\n",
       "      <th>V3</th>\n",
       "      <th>V4</th>\n",
       "      <th>V5</th>\n",
       "      <th>V6</th>\n",
       "      <th>V7</th>\n",
       "      <th>V8</th>\n",
       "      <th>V9</th>\n",
       "      <th>...</th>\n",
       "      <th>V21</th>\n",
       "      <th>V22</th>\n",
       "      <th>V23</th>\n",
       "      <th>V24</th>\n",
       "      <th>V25</th>\n",
       "      <th>V26</th>\n",
       "      <th>V27</th>\n",
       "      <th>V28</th>\n",
       "      <th>Amount</th>\n",
       "      <th>Class</th>\n",
       "    </tr>\n",
       "  </thead>\n",
       "  <tbody>\n",
       "    <tr>\n",
       "      <th>0</th>\n",
       "      <td>129063.0</td>\n",
       "      <td>2.289514</td>\n",
       "      <td>-1.574852</td>\n",
       "      <td>-1.128711</td>\n",
       "      <td>-1.791780</td>\n",
       "      <td>-1.068691</td>\n",
       "      <td>-0.055914</td>\n",
       "      <td>-1.342566</td>\n",
       "      <td>0.025943</td>\n",
       "      <td>-1.110746</td>\n",
       "      <td>...</td>\n",
       "      <td>-0.182156</td>\n",
       "      <td>-0.106641</td>\n",
       "      <td>0.109873</td>\n",
       "      <td>-1.147944</td>\n",
       "      <td>-0.181996</td>\n",
       "      <td>-0.128155</td>\n",
       "      <td>0.006098</td>\n",
       "      <td>-0.067516</td>\n",
       "      <td>29.40</td>\n",
       "      <td>0</td>\n",
       "    </tr>\n",
       "    <tr>\n",
       "      <th>1</th>\n",
       "      <td>63555.0</td>\n",
       "      <td>1.196917</td>\n",
       "      <td>0.499183</td>\n",
       "      <td>0.090995</td>\n",
       "      <td>1.178233</td>\n",
       "      <td>0.002551</td>\n",
       "      <td>-1.018031</td>\n",
       "      <td>0.514884</td>\n",
       "      <td>-0.275699</td>\n",
       "      <td>-0.384463</td>\n",
       "      <td>...</td>\n",
       "      <td>0.070449</td>\n",
       "      <td>0.314455</td>\n",
       "      <td>-0.055089</td>\n",
       "      <td>0.639272</td>\n",
       "      <td>0.723545</td>\n",
       "      <td>-0.301145</td>\n",
       "      <td>0.012101</td>\n",
       "      <td>0.013849</td>\n",
       "      <td>1.48</td>\n",
       "      <td>0</td>\n",
       "    </tr>\n",
       "    <tr>\n",
       "      <th>2</th>\n",
       "      <td>75973.0</td>\n",
       "      <td>-0.519288</td>\n",
       "      <td>0.857109</td>\n",
       "      <td>1.613393</td>\n",
       "      <td>-0.135878</td>\n",
       "      <td>-0.045373</td>\n",
       "      <td>-0.242546</td>\n",
       "      <td>0.459128</td>\n",
       "      <td>0.273931</td>\n",
       "      <td>-0.490375</td>\n",
       "      <td>...</td>\n",
       "      <td>-0.147251</td>\n",
       "      <td>-0.429885</td>\n",
       "      <td>0.042834</td>\n",
       "      <td>0.171252</td>\n",
       "      <td>-0.363922</td>\n",
       "      <td>0.074784</td>\n",
       "      <td>0.269128</td>\n",
       "      <td>0.107098</td>\n",
       "      <td>6.28</td>\n",
       "      <td>0</td>\n",
       "    </tr>\n",
       "    <tr>\n",
       "      <th>3</th>\n",
       "      <td>140196.0</td>\n",
       "      <td>-0.194446</td>\n",
       "      <td>0.419320</td>\n",
       "      <td>-1.104514</td>\n",
       "      <td>-1.347811</td>\n",
       "      <td>1.932688</td>\n",
       "      <td>-0.680065</td>\n",
       "      <td>1.671171</td>\n",
       "      <td>-0.368725</td>\n",
       "      <td>-0.307214</td>\n",
       "      <td>...</td>\n",
       "      <td>0.232585</td>\n",
       "      <td>0.754281</td>\n",
       "      <td>-0.164874</td>\n",
       "      <td>-0.039251</td>\n",
       "      <td>-0.244139</td>\n",
       "      <td>0.056537</td>\n",
       "      <td>0.185576</td>\n",
       "      <td>0.042214</td>\n",
       "      <td>58.00</td>\n",
       "      <td>0</td>\n",
       "    </tr>\n",
       "    <tr>\n",
       "      <th>4</th>\n",
       "      <td>78686.0</td>\n",
       "      <td>1.231586</td>\n",
       "      <td>-0.413043</td>\n",
       "      <td>1.098834</td>\n",
       "      <td>-0.843303</td>\n",
       "      <td>-1.407439</td>\n",
       "      <td>-0.837886</td>\n",
       "      <td>-0.786304</td>\n",
       "      <td>0.001675</td>\n",
       "      <td>1.810669</td>\n",
       "      <td>...</td>\n",
       "      <td>0.267405</td>\n",
       "      <td>0.923146</td>\n",
       "      <td>-0.115746</td>\n",
       "      <td>0.404664</td>\n",
       "      <td>0.482778</td>\n",
       "      <td>-0.550712</td>\n",
       "      <td>0.102953</td>\n",
       "      <td>0.041372</td>\n",
       "      <td>8.00</td>\n",
       "      <td>0</td>\n",
       "    </tr>\n",
       "  </tbody>\n",
       "</table>\n",
       "<p>5 rows × 31 columns</p>\n",
       "</div>"
      ],
      "text/plain": [
       "       Time        V1        V2        V3        V4        V5        V6  \\\n",
       "0  129063.0  2.289514 -1.574852 -1.128711 -1.791780 -1.068691 -0.055914   \n",
       "1   63555.0  1.196917  0.499183  0.090995  1.178233  0.002551 -1.018031   \n",
       "2   75973.0 -0.519288  0.857109  1.613393 -0.135878 -0.045373 -0.242546   \n",
       "3  140196.0 -0.194446  0.419320 -1.104514 -1.347811  1.932688 -0.680065   \n",
       "4   78686.0  1.231586 -0.413043  1.098834 -0.843303 -1.407439 -0.837886   \n",
       "\n",
       "         V7        V8        V9  ...       V21       V22       V23       V24  \\\n",
       "0 -1.342566  0.025943 -1.110746  ... -0.182156 -0.106641  0.109873 -1.147944   \n",
       "1  0.514884 -0.275699 -0.384463  ...  0.070449  0.314455 -0.055089  0.639272   \n",
       "2  0.459128  0.273931 -0.490375  ... -0.147251 -0.429885  0.042834  0.171252   \n",
       "3  1.671171 -0.368725 -0.307214  ...  0.232585  0.754281 -0.164874 -0.039251   \n",
       "4 -0.786304  0.001675  1.810669  ...  0.267405  0.923146 -0.115746  0.404664   \n",
       "\n",
       "        V25       V26       V27       V28  Amount  Class  \n",
       "0 -0.181996 -0.128155  0.006098 -0.067516   29.40      0  \n",
       "1  0.723545 -0.301145  0.012101  0.013849    1.48      0  \n",
       "2 -0.363922  0.074784  0.269128  0.107098    6.28      0  \n",
       "3 -0.244139  0.056537  0.185576  0.042214   58.00      0  \n",
       "4  0.482778 -0.550712  0.102953  0.041372    8.00      0  \n",
       "\n",
       "[5 rows x 31 columns]"
      ]
     },
     "execution_count": 18,
     "metadata": {},
     "output_type": "execute_result"
    }
   ],
   "source": [
    "sample.head()"
   ]
  },
  {
   "cell_type": "code",
   "execution_count": 19,
   "metadata": {},
   "outputs": [
    {
     "data": {
      "text/html": [
       "<div>\n",
       "<style scoped>\n",
       "    .dataframe tbody tr th:only-of-type {\n",
       "        vertical-align: middle;\n",
       "    }\n",
       "\n",
       "    .dataframe tbody tr th {\n",
       "        vertical-align: top;\n",
       "    }\n",
       "\n",
       "    .dataframe thead th {\n",
       "        text-align: right;\n",
       "    }\n",
       "</style>\n",
       "<table border=\"1\" class=\"dataframe\">\n",
       "  <thead>\n",
       "    <tr style=\"text-align: right;\">\n",
       "      <th></th>\n",
       "      <th>V1</th>\n",
       "      <th>V2</th>\n",
       "      <th>V3</th>\n",
       "      <th>V4</th>\n",
       "      <th>V5</th>\n",
       "      <th>V6</th>\n",
       "      <th>V7</th>\n",
       "      <th>V8</th>\n",
       "      <th>V9</th>\n",
       "      <th>V10</th>\n",
       "      <th>...</th>\n",
       "      <th>V19</th>\n",
       "      <th>V20</th>\n",
       "      <th>V21</th>\n",
       "      <th>V22</th>\n",
       "      <th>V23</th>\n",
       "      <th>V24</th>\n",
       "      <th>V25</th>\n",
       "      <th>V26</th>\n",
       "      <th>V27</th>\n",
       "      <th>V28</th>\n",
       "    </tr>\n",
       "  </thead>\n",
       "  <tbody>\n",
       "    <tr>\n",
       "      <th>skewness</th>\n",
       "      <td>-2.486493</td>\n",
       "      <td>-3.489573</td>\n",
       "      <td>-1.947626</td>\n",
       "      <td>0.580774</td>\n",
       "      <td>-1.543259</td>\n",
       "      <td>1.654018</td>\n",
       "      <td>0.082403</td>\n",
       "      <td>-9.066811</td>\n",
       "      <td>0.556849</td>\n",
       "      <td>1.126999</td>\n",
       "      <td>...</td>\n",
       "      <td>0.063189</td>\n",
       "      <td>2.225508</td>\n",
       "      <td>4.506575</td>\n",
       "      <td>-0.316712</td>\n",
       "      <td>-0.787062</td>\n",
       "      <td>-0.525703</td>\n",
       "      <td>-0.390670</td>\n",
       "      <td>0.532872</td>\n",
       "      <td>-2.328934</td>\n",
       "      <td>0.014033</td>\n",
       "    </tr>\n",
       "    <tr>\n",
       "      <th>kurtosis</th>\n",
       "      <td>18.068264</td>\n",
       "      <td>75.192829</td>\n",
       "      <td>20.992298</td>\n",
       "      <td>1.882708</td>\n",
       "      <td>37.228423</td>\n",
       "      <td>7.934499</td>\n",
       "      <td>74.098902</td>\n",
       "      <td>234.489700</td>\n",
       "      <td>3.749150</td>\n",
       "      <td>29.240808</td>\n",
       "      <td>...</td>\n",
       "      <td>1.578117</td>\n",
       "      <td>132.133434</td>\n",
       "      <td>195.751780</td>\n",
       "      <td>3.279575</td>\n",
       "      <td>245.333717</td>\n",
       "      <td>0.607485</td>\n",
       "      <td>2.400496</td>\n",
       "      <td>0.815912</td>\n",
       "      <td>83.441594</td>\n",
       "      <td>89.588513</td>\n",
       "    </tr>\n",
       "  </tbody>\n",
       "</table>\n",
       "<p>2 rows × 28 columns</p>\n",
       "</div>"
      ],
      "text/plain": [
       "                 V1         V2         V3        V4         V5        V6  \\\n",
       "skewness  -2.486493  -3.489573  -1.947626  0.580774  -1.543259  1.654018   \n",
       "kurtosis  18.068264  75.192829  20.992298  1.882708  37.228423  7.934499   \n",
       "\n",
       "                 V7          V8        V9        V10  ...       V19  \\\n",
       "skewness   0.082403   -9.066811  0.556849   1.126999  ...  0.063189   \n",
       "kurtosis  74.098902  234.489700  3.749150  29.240808  ...  1.578117   \n",
       "\n",
       "                 V20         V21       V22         V23       V24       V25  \\\n",
       "skewness    2.225508    4.506575 -0.316712   -0.787062 -0.525703 -0.390670   \n",
       "kurtosis  132.133434  195.751780  3.279575  245.333717  0.607485  2.400496   \n",
       "\n",
       "               V26        V27        V28  \n",
       "skewness  0.532872  -2.328934   0.014033  \n",
       "kurtosis  0.815912  83.441594  89.588513  \n",
       "\n",
       "[2 rows x 28 columns]"
      ]
     },
     "execution_count": 19,
     "metadata": {},
     "output_type": "execute_result"
    }
   ],
   "source": [
    "columns_to_exclude = ['Time', 'Class', 'Amount']\n",
    "# calculate skewness and kurtosis for each feature\n",
    "skewness = sample.drop(columns=columns_to_exclude, axis=1).skew()\n",
    "kurtosis = sample.drop(columns=columns_to_exclude, axis=1).kurtosis()\n",
    "# create a DataFrame with the results\n",
    "results = pd.concat([skewness, kurtosis], axis=1)\n",
    "results.columns = ['skewness', 'kurtosis']\n",
    "results.T"
   ]
  },
  {
   "cell_type": "code",
   "execution_count": 20,
   "metadata": {},
   "outputs": [],
   "source": [
    "def calculate_vif(df):\n",
    "    vif_data = pd.DataFrame()\n",
    "    vif_data[\"Feature\"] = df.columns\n",
    "    vif_data[\"VIF\"] = [variance_inflation_factor(df.values, i) for i in range(len(df.columns))]\n",
    "    return vif_data\n",
    "\n",
    "# Calculate VIF for all features in 'sample'\n",
    "vif_result = calculate_vif(sample.drop(['Time', 'Class', 'Amount'], axis=1))  # Exclude non-numeric columns if necessary"
   ]
  },
  {
   "cell_type": "code",
   "execution_count": 21,
   "metadata": {},
   "outputs": [
    {
     "data": {
      "text/html": [
       "<div>\n",
       "<style scoped>\n",
       "    .dataframe tbody tr th:only-of-type {\n",
       "        vertical-align: middle;\n",
       "    }\n",
       "\n",
       "    .dataframe tbody tr th {\n",
       "        vertical-align: top;\n",
       "    }\n",
       "\n",
       "    .dataframe thead th {\n",
       "        text-align: right;\n",
       "    }\n",
       "</style>\n",
       "<table border=\"1\" class=\"dataframe\">\n",
       "  <thead>\n",
       "    <tr style=\"text-align: right;\">\n",
       "      <th></th>\n",
       "      <th>0</th>\n",
       "      <th>1</th>\n",
       "      <th>2</th>\n",
       "      <th>3</th>\n",
       "      <th>4</th>\n",
       "      <th>5</th>\n",
       "      <th>6</th>\n",
       "      <th>7</th>\n",
       "      <th>8</th>\n",
       "      <th>9</th>\n",
       "      <th>...</th>\n",
       "      <th>18</th>\n",
       "      <th>19</th>\n",
       "      <th>20</th>\n",
       "      <th>21</th>\n",
       "      <th>22</th>\n",
       "      <th>23</th>\n",
       "      <th>24</th>\n",
       "      <th>25</th>\n",
       "      <th>26</th>\n",
       "      <th>27</th>\n",
       "    </tr>\n",
       "  </thead>\n",
       "  <tbody>\n",
       "    <tr>\n",
       "      <th>Feature</th>\n",
       "      <td>V1</td>\n",
       "      <td>V2</td>\n",
       "      <td>V3</td>\n",
       "      <td>V4</td>\n",
       "      <td>V5</td>\n",
       "      <td>V6</td>\n",
       "      <td>V7</td>\n",
       "      <td>V8</td>\n",
       "      <td>V9</td>\n",
       "      <td>V10</td>\n",
       "      <td>...</td>\n",
       "      <td>V19</td>\n",
       "      <td>V20</td>\n",
       "      <td>V21</td>\n",
       "      <td>V22</td>\n",
       "      <td>V23</td>\n",
       "      <td>V24</td>\n",
       "      <td>V25</td>\n",
       "      <td>V26</td>\n",
       "      <td>V27</td>\n",
       "      <td>V28</td>\n",
       "    </tr>\n",
       "    <tr>\n",
       "      <th>VIF</th>\n",
       "      <td>1.030643</td>\n",
       "      <td>1.036126</td>\n",
       "      <td>1.008197</td>\n",
       "      <td>1.008141</td>\n",
       "      <td>1.005932</td>\n",
       "      <td>1.004764</td>\n",
       "      <td>1.007327</td>\n",
       "      <td>1.006365</td>\n",
       "      <td>1.00207</td>\n",
       "      <td>1.002659</td>\n",
       "      <td>...</td>\n",
       "      <td>1.003472</td>\n",
       "      <td>1.069</td>\n",
       "      <td>1.020835</td>\n",
       "      <td>1.003096</td>\n",
       "      <td>1.016591</td>\n",
       "      <td>1.001203</td>\n",
       "      <td>1.009323</td>\n",
       "      <td>1.002414</td>\n",
       "      <td>1.027202</td>\n",
       "      <td>1.043585</td>\n",
       "    </tr>\n",
       "  </tbody>\n",
       "</table>\n",
       "<p>2 rows × 28 columns</p>\n",
       "</div>"
      ],
      "text/plain": [
       "               0         1         2         3         4         5         6   \\\n",
       "Feature        V1        V2        V3        V4        V5        V6        V7   \n",
       "VIF      1.030643  1.036126  1.008197  1.008141  1.005932  1.004764  1.007327   \n",
       "\n",
       "               7        8         9   ...        18     19        20  \\\n",
       "Feature        V8       V9       V10  ...       V19    V20       V21   \n",
       "VIF      1.006365  1.00207  1.002659  ...  1.003472  1.069  1.020835   \n",
       "\n",
       "               21        22        23        24        25        26        27  \n",
       "Feature       V22       V23       V24       V25       V26       V27       V28  \n",
       "VIF      1.003096  1.016591  1.001203  1.009323  1.002414  1.027202  1.043585  \n",
       "\n",
       "[2 rows x 28 columns]"
      ]
     },
     "execution_count": 21,
     "metadata": {},
     "output_type": "execute_result"
    }
   ],
   "source": [
    "vif_result.T"
   ]
  },
  {
   "cell_type": "markdown",
   "metadata": {},
   "source": [
    "## Conclusion\n",
    "\n",
    "### Sample Selection:\n",
    "To facilitate computationally demanding analyses, I opted to use a sampled subset of the dataset to reduce execution time. Given the highly imbalanced nature of the dataset, I conducted a stratified sampling to maintain class proportions. Further statistical tests confirmed the sample's representativeness.\n",
    "\n",
    "### Class Imbalance:\n",
    "The dataset exhibits significant class imbalance, which is expected in fraud detection where anomalies are rare compared to normal transactions. Various techniques such as oversampling, undersampling, adjusting class weights, or using models robust to class imbalance are being considered.\n",
    "\n",
    "### Outliers:\n",
    "Despite the presence of numerous outliers, they hold valuable information in fraud detection. Instead of removing them outright, robust models like XGBoost or ensemble methods such as Random Forests are preferred, as they can effectively handle outliers.\n",
    "\n",
    "### Visualizations:\n",
    "Exploring the distributions of model features revealed interesting insights. The 'Amount' variable exhibits pronounced kurtosis and skewness, while 'Time' shows a unique tri-modal distribution. Individual features (V1, V2, ...) also display varying levels of kurtosis and skewness, highlighting areas for further investigation.\n",
    "\n",
    "### VIF\n",
    "Having already applied PCA to the data initially, VIF levels are well within acceptable ranges. This ensures no issues related to multicollinearity, affirming the robustness of the data preprocessing steps."
   ]
  },
  {
   "cell_type": "markdown",
   "metadata": {},
   "source": [
    "### Prepare the data:\n",
    "\n",
    "- Data cleaning\n",
    "- Feature engineering\n",
    "- Feature Scaling"
   ]
  },
  {
   "cell_type": "code",
   "execution_count": 22,
   "metadata": {},
   "outputs": [],
   "source": [
    "# make a copy of the dataset\n",
    "sample_cp = sample.copy()"
   ]
  },
  {
   "cell_type": "code",
   "execution_count": 23,
   "metadata": {},
   "outputs": [],
   "source": [
    "def log_trans(feature):\n",
    "    return np.log1p(feature)"
   ]
  },
  {
   "cell_type": "code",
   "execution_count": 24,
   "metadata": {},
   "outputs": [],
   "source": [
    "trans_features = [col for col in sample_cp.columns if col not in ['Time', 'Class', 'Amount']]\n",
    "\n",
    "V_pipeline = Pipeline(steps=[\n",
    "    ('imputer', SimpleImputer(strategy='median')),\n",
    "    ('scaler',StandardScaler()),\n",
    "    ('yeojohnson', PowerTransformer(method='yeo-johnson'))\n",
    "])\n",
    "amount_pipeline = Pipeline(steps=[\n",
    "    ('imputer', SimpleImputer(strategy='median')),\n",
    "    ('scaler',StandardScaler()),\n",
    "    ('log_trans',FunctionTransformer(log_trans, validate=False))\n",
    "])\n",
    "\n",
    "time_pipeline = Pipeline(steps=[\n",
    "    ('imputer', SimpleImputer(strategy='median')),\n",
    "    ('scaler',StandardScaler())\n",
    "])\n",
    "# Create a ColumnTransformer to apply log_trans to specific features\n",
    "preprocessor = ColumnTransformer(transformers=[\n",
    "    ('Vfeatures_preprocessor', V_pipeline, trans_features),\n",
    "    ('Amount_preprocessor', amount_pipeline,['Amount']),\n",
    "    ('Time_preprocessor', time_pipeline,['Time'])\n",
    "], remainder='passthrough')"
   ]
  },
  {
   "cell_type": "code",
   "execution_count": 25,
   "metadata": {},
   "outputs": [],
   "source": [
    "def final_pipeline(preprocessor,model):\n",
    "\n",
    "    pipeline = Pipeline(steps=[\n",
    "        ('preprocessor', preprocessor),\n",
    "        ('classifier', model)\n",
    "    ])\n",
    "\n",
    "    return pipeline"
   ]
  },
  {
   "cell_type": "markdown",
   "metadata": {},
   "source": [
    "### Test some models\n",
    "\n",
    "#### We test some models that have proven to be good choices when it comes to unbalanced datasets\n",
    "\n",
    "- Logistic Regression\n",
    "- Random Forest\n",
    "- XGBoost\n",
    "- CatBoost\n",
    "- Gradient Boosting\n",
    "\n",
    "NOTE: *Logistic regression is used as naive model*"
   ]
  },
  {
   "cell_type": "code",
   "execution_count": 26,
   "metadata": {},
   "outputs": [],
   "source": [
    "features = sample_cp.iloc[:, 0:30]\n",
    "target = sample_cp['Class']\n",
    "\n",
    "def stratified_kfold_metrics(model, X, y, n_splits=5, random_state=None):\n",
    "    skf = StratifiedKFold(n_splits=n_splits, shuffle=True, random_state=random_state)\n",
    "    metrics_results = {\n",
    "        'roc_auc_scores': [],\n",
    "        'f1_scores': [],\n",
    "        'precision_scores': [],\n",
    "        'recall_scores': []\n",
    "    }\n",
    "\n",
    "    for train_index, test_index in skf.split(X, y):\n",
    "        X_train, X_test = X.iloc[train_index], X.iloc[test_index]\n",
    "        y_train, y_test = y.iloc[train_index], y.iloc[test_index]\n",
    "\n",
    "        model.fit(X_train, y_train)\n",
    "        y_pred = model.predict(X_test)\n",
    "\n",
    "        metrics_results['roc_auc_scores'].append(roc_auc_score(y_test, y_pred))\n",
    "        metrics_results['f1_scores'].append(f1_score(y_test, y_pred))\n",
    "        metrics_results['precision_scores'].append(precision_score(y_test, y_pred))\n",
    "        metrics_results['recall_scores'].append(recall_score(y_test, y_pred))\n",
    "\n",
    "    # Calculate mean of scores across all folds\n",
    "    mean_metrics = {\n",
    "        'mean_roc_auc_score': np.mean(metrics_results['roc_auc_scores']),\n",
    "        'mean_f1_score': np.mean(metrics_results['f1_scores']),\n",
    "        'mean_precision_score': np.mean(metrics_results['precision_scores']),\n",
    "        'mean_recall_score': np.mean(metrics_results['recall_scores'])\n",
    "    }\n",
    "\n",
    "    return mean_metrics, metrics_results\n"
   ]
  },
  {
   "cell_type": "code",
   "execution_count": 27,
   "metadata": {},
   "outputs": [],
   "source": [
    "logreg = final_pipeline(preprocessor,LogisticRegression(random_state=42))\n",
    "logreg_mean,_ = stratified_kfold_metrics(logreg, features,target, n_splits=5, random_state=42)"
   ]
  },
  {
   "cell_type": "code",
   "execution_count": 28,
   "metadata": {},
   "outputs": [],
   "source": [
    "gbc = final_pipeline(preprocessor,GradientBoostingClassifier(random_state=42))\n",
    "gbc_mean,_ = stratified_kfold_metrics(gbc, features,target, n_splits=5, random_state=42)"
   ]
  },
  {
   "cell_type": "code",
   "execution_count": null,
   "metadata": {},
   "outputs": [],
   "source": [
    "catboost = final_pipeline(preprocessor,CatBoostClassifier(random_state=42))\n",
    "catboost_mean,_ = stratified_kfold_metrics(catboost, features,target, n_splits=5, random_state=42)"
   ]
  },
  {
   "cell_type": "code",
   "execution_count": 30,
   "metadata": {},
   "outputs": [],
   "source": [
    "rfc = final_pipeline(preprocessor,RandomForestClassifier(random_state=42))\n",
    "rfc_mean,_ = stratified_kfold_metrics(rfc, features,target, n_splits=5, random_state=42)"
   ]
  },
  {
   "cell_type": "code",
   "execution_count": 31,
   "metadata": {},
   "outputs": [],
   "source": [
    "xgb = final_pipeline(preprocessor,XGBClassifier(random_state=42))\n",
    "xgb_mean,_ = stratified_kfold_metrics(xgb,features,target, n_splits=5, random_state=42)"
   ]
  },
  {
   "cell_type": "code",
   "execution_count": 32,
   "metadata": {},
   "outputs": [],
   "source": [
    "metrics = pd.DataFrame([logreg_mean,gbc_mean,catboost_mean,rfc_mean,xgb_mean],\n",
    "                       index=['Logistic Regression',\n",
    "                              'Gradient Boosting Classifier',\n",
    "                              'CatBoost Classifier','Random Forest Classifier',\n",
    "                              'XGBoost Classifier'])"
   ]
  },
  {
   "cell_type": "code",
   "execution_count": 33,
   "metadata": {},
   "outputs": [
    {
     "data": {
      "text/html": [
       "<div>\n",
       "<style scoped>\n",
       "    .dataframe tbody tr th:only-of-type {\n",
       "        vertical-align: middle;\n",
       "    }\n",
       "\n",
       "    .dataframe tbody tr th {\n",
       "        vertical-align: top;\n",
       "    }\n",
       "\n",
       "    .dataframe thead th {\n",
       "        text-align: right;\n",
       "    }\n",
       "</style>\n",
       "<table border=\"1\" class=\"dataframe\">\n",
       "  <thead>\n",
       "    <tr style=\"text-align: right;\">\n",
       "      <th></th>\n",
       "      <th>mean_roc_auc_score</th>\n",
       "      <th>mean_f1_score</th>\n",
       "      <th>mean_precision_score</th>\n",
       "      <th>mean_recall_score</th>\n",
       "    </tr>\n",
       "  </thead>\n",
       "  <tbody>\n",
       "    <tr>\n",
       "      <th>Logistic Regression</th>\n",
       "      <td>0.885689</td>\n",
       "      <td>0.856410</td>\n",
       "      <td>0.966667</td>\n",
       "      <td>0.771429</td>\n",
       "    </tr>\n",
       "    <tr>\n",
       "      <th>Gradient Boosting Classifier</th>\n",
       "      <td>0.899800</td>\n",
       "      <td>0.790330</td>\n",
       "      <td>0.785714</td>\n",
       "      <td>0.800000</td>\n",
       "    </tr>\n",
       "    <tr>\n",
       "      <th>CatBoost Classifier</th>\n",
       "      <td>0.899950</td>\n",
       "      <td>0.860806</td>\n",
       "      <td>0.942857</td>\n",
       "      <td>0.800000</td>\n",
       "    </tr>\n",
       "    <tr>\n",
       "      <th>Random Forest Classifier</th>\n",
       "      <td>0.885689</td>\n",
       "      <td>0.850583</td>\n",
       "      <td>0.966667</td>\n",
       "      <td>0.771429</td>\n",
       "    </tr>\n",
       "    <tr>\n",
       "      <th>XGBoost Classifier</th>\n",
       "      <td>0.942832</td>\n",
       "      <td>0.922711</td>\n",
       "      <td>0.971429</td>\n",
       "      <td>0.885714</td>\n",
       "    </tr>\n",
       "  </tbody>\n",
       "</table>\n",
       "</div>"
      ],
      "text/plain": [
       "                              mean_roc_auc_score  mean_f1_score  \\\n",
       "Logistic Regression                     0.885689       0.856410   \n",
       "Gradient Boosting Classifier            0.899800       0.790330   \n",
       "CatBoost Classifier                     0.899950       0.860806   \n",
       "Random Forest Classifier                0.885689       0.850583   \n",
       "XGBoost Classifier                      0.942832       0.922711   \n",
       "\n",
       "                              mean_precision_score  mean_recall_score  \n",
       "Logistic Regression                       0.966667           0.771429  \n",
       "Gradient Boosting Classifier              0.785714           0.800000  \n",
       "CatBoost Classifier                       0.942857           0.800000  \n",
       "Random Forest Classifier                  0.966667           0.771429  \n",
       "XGBoost Classifier                        0.971429           0.885714  "
      ]
     },
     "execution_count": 33,
     "metadata": {},
     "output_type": "execute_result"
    }
   ],
   "source": [
    "metrics"
   ]
  },
  {
   "cell_type": "markdown",
   "metadata": {},
   "source": [
    "### Conclusion:\n",
    "\n",
    "#### On unbalanced data XGBoost seems to be the better choice.\n",
    "\n",
    "# Test the model on the entire dataset"
   ]
  },
  {
   "cell_type": "code",
   "execution_count": 34,
   "metadata": {},
   "outputs": [],
   "source": [
    "X,y = df.drop('Class',axis=1),df['Class']\n",
    "\n",
    "X_train, X_test, y_train, y_test = train_test_split(X, y, test_size=0.3, random_state=42,\n",
    "                                                    stratify=y) # stratify for imbalanced data"
   ]
  },
  {
   "cell_type": "code",
   "execution_count": 35,
   "metadata": {},
   "outputs": [],
   "source": [
    "model = final_pipeline(preprocessor,XGBClassifier(random_state=42)).fit(X_train,y_train)"
   ]
  },
  {
   "cell_type": "code",
   "execution_count": 36,
   "metadata": {},
   "outputs": [
    {
     "name": "stdout",
     "output_type": "stream",
     "text": [
      "Cross validation score: 0.9664981507722017\n"
     ]
    }
   ],
   "source": [
    "cross_validate = cross_val_score(model, X_test, y_test, cv=5, scoring='roc_auc')\n",
    "print(f'Cross validation score: {cross_validate.mean()}')"
   ]
  },
  {
   "cell_type": "markdown",
   "metadata": {},
   "source": [
    "# Final Considerations\n",
    "\n",
    "The dataset exhibits a high level of imbalance, prompting the use of robust models capable of handling this issue internally. Moreover, despite the presence of outliers, which can often provide crucial insights into the nature of fraud, I opted to retain them. The selected models are robust against outliers, supporting this decision.\n",
    "\n",
    "The visualisation and testing phase of the models was carried out on a stratified sample of the original dataset consisting of 20000 observations, i.e. approximately 10% of the original dataset.\n",
    "This choice was due to the particularly large size of the dataset, which would have made the training phase excessively long.\n",
    "Furthermore, in order to verify that the sample is sufficiently representative, I wanted to perform t-tests to check that the mean and standard deviation are not too statistically significantly different from those of the original dataset (population).\n",
    "The proportion of the target variable is also almost identical.\n",
    "\n",
    "All models were trained using stratified k-fold cross-validation due to the significant class imbalance, ensuring a balanced representation of classes in each fold.\n",
    "\n",
    "The variables were preprocessed taking into account the high level of kurtosis and skewness.\n",
    "For this purpose, I opted for ad hoc transformations such as the logarithmic transformation for the variable 'Amount'\n",
    "and the Yeo-Johnson transformation for the other variables V1,V2...\n",
    "the choice of the Yeo-Johnson is due to the fact that this transformation is also capable of handling negative values and 0 values, as opposed (obviously) to the logarithmic function which, on the other hand, is mathematically undefined for values equal to or less than 0.\n",
    "\n",
    "Finally, for training on the original dataset, I choose the XGBoost model, as it showed the best results in testing.\n",
    "As a further verification, I also performed a cross-validation.\n",
    "\n",
    "### Potential Options to Explore:\n",
    "\n",
    "- **Oversampling or Undersampling:** Techniques to address the imbalance by adjusting the class distribution.\n",
    "\n",
    "    note: *Be aware for overfitting*.\n",
    "- **Optimize Hyperparameters:** Once the final model has been selected, it may be interesting to search for the best hyperparameters via GridSearch, RandomizedSearch or Bayesian optimization.\n"
   ]
  }
 ],
 "metadata": {
  "kernelspec": {
   "display_name": "Python 3",
   "language": "python",
   "name": "python3"
  },
  "language_info": {
   "codemirror_mode": {
    "name": "ipython",
    "version": 3
   },
   "file_extension": ".py",
   "mimetype": "text/x-python",
   "name": "python",
   "nbconvert_exporter": "python",
   "pygments_lexer": "ipython3",
   "version": "3.9.6"
  }
 },
 "nbformat": 4,
 "nbformat_minor": 2
}
